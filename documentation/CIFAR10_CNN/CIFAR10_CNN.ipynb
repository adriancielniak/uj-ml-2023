{
 "cells": [
  {
   "cell_type": "markdown",
   "id": "263ffac4-31b8-46f0-b0d4-895ca44dc199",
   "metadata": {},
   "source": [
    "Notatnik wykonany na podstawie dokumentacji Pytorch https://pytorch.org/tutorials/beginner/blitz/cifar10_tutorial.html"
   ]
  },
  {
   "cell_type": "markdown",
   "id": "126041a2-b56b-4dc0-a165-fdae3cd60127",
   "metadata": {},
   "source": [
    "CIFAR10 has the classes: ‘airplane’, ‘automobile’, ‘bird’, ‘cat’, ‘deer’, ‘dog’, ‘frog’, ‘horse’, ‘ship’, ‘truck’. The images in CIFAR-10 are of size 3x32x32, i.e. 3-channel color images of 32x32 pixels in size."
   ]
  },
  {
   "cell_type": "markdown",
   "id": "ecc9fb48-8c17-436f-94eb-06a54583ed04",
   "metadata": {},
   "source": [
    "Load and normalize CIFAR10:"
   ]
  },
  {
   "cell_type": "code",
   "execution_count": 1,
   "id": "31ec7c62-e410-4c83-9ca7-706719d979a2",
   "metadata": {},
   "outputs": [],
   "source": [
    "import torch\n",
    "import torchvision\n",
    "import torchvision.transforms as transforms"
   ]
  },
  {
   "cell_type": "markdown",
   "id": "29ce6c3d-0241-4dbf-aadc-03183b5fa457",
   "metadata": {},
   "source": [
    "The output of torchvision datasets are PILImage images of range [0, 1]. Transform them to Tensors of normalized range [-1, 1]:"
   ]
  },
  {
   "cell_type": "code",
   "execution_count": 2,
   "id": "6ff0aac4-7372-4115-9c40-182d9be2379e",
   "metadata": {},
   "outputs": [
    {
     "name": "stdout",
     "output_type": "stream",
     "text": [
      "Downloading https://www.cs.toronto.edu/~kriz/cifar-10-python.tar.gz to ./data/cifar-10-python.tar.gz\n"
     ]
    },
    {
     "name": "stderr",
     "output_type": "stream",
     "text": [
      "100%|████████████████████████| 170498071/170498071 [00:47<00:00, 3560928.94it/s]\n"
     ]
    },
    {
     "name": "stdout",
     "output_type": "stream",
     "text": [
      "Extracting ./data/cifar-10-python.tar.gz to ./data\n",
      "Files already downloaded and verified\n"
     ]
    }
   ],
   "source": [
    "transform = transforms.Compose(\n",
    "    [transforms.ToTensor(),\n",
    "     transforms.Normalize((0.5, 0.5, 0.5), (0.5, 0.5, 0.5))]) # numbers in arguments are the means and standard devciations\n",
    "\n",
    "batch_size = 4\n",
    "\n",
    "trainset = torchvision.datasets.CIFAR10(root='./data', train=True,\n",
    "                                        download=True, transform=transform)\n",
    "trainloader = torch.utils.data.DataLoader(trainset, batch_size=batch_size,\n",
    "                                          shuffle=True, num_workers=2)\n",
    "\n",
    "testset = torchvision.datasets.CIFAR10(root='./data', train=False,\n",
    "                                       download=True, transform=transform)\n",
    "testloader = torch.utils.data.DataLoader(testset, batch_size=batch_size,\n",
    "                                         shuffle=False, num_workers=2)\n",
    "\n",
    "classes = ('plane', 'car', 'bird', 'cat',\n",
    "           'deer', 'dog', 'frog', 'horse', 'ship', 'truck')"
   ]
  },
  {
   "cell_type": "markdown",
   "id": "ca838ba5-c65f-4829-ba71-2b88e89c6564",
   "metadata": {},
   "source": [
    "Show some of the training images:"
   ]
  },
  {
   "cell_type": "code",
   "execution_count": 3,
   "id": "a588eed2-7e26-4f0c-a3c0-86a0febe38aa",
   "metadata": {},
   "outputs": [
    {
     "data": {
      "image/png": "[encoded data removed]",
      "text/plain": [
       "<Figure size 640x480 with 1 Axes>"
      ]
     },
     "metadata": {},
     "output_type": "display_data"
    },
    {
     "name": "stdout",
     "output_type": "stream",
     "text": [
      "ship  car   cat   truck\n"
     ]
    }
   ],
   "source": [
    "import matplotlib.pyplot as plt\n",
    "import numpy as np\n",
    "\n",
    "# functions to show an image\n",
    "\n",
    "\n",
    "def imshow(img):\n",
    "    img = img / 2 + 0.5     # unnormalize\n",
    "    npimg = img.numpy()\n",
    "    # Matplotlib's imshow function expects images in the format (H, W, C), so reorder the dimensions of the array\n",
    "    plt.imshow(np.transpose(npimg, (1, 2, 0)))\n",
    "    plt.show()\n",
    "\n",
    "\n",
    "# get some random training images\n",
    "dataiter = iter(trainloader)\n",
    "images, labels = next(dataiter)\n",
    "\n",
    "# show images\n",
    "imshow(torchvision.utils.make_grid(images))\n",
    "# print labels\n",
    "print(' '.join(f'{classes[labels[j]]:5s}' for j in range(batch_size)))"
   ]
  },
  {
   "cell_type": "markdown",
   "id": "4a30e343-3891-4f88-9271-a5bbd0147b94",
   "metadata": {},
   "source": [
    "Define a Convolutional Neural Network:"
   ]
  },
  {
   "cell_type": "code",
   "execution_count": 6,
   "id": "bef29368-376b-4712-884f-bb295e869a62",
   "metadata": {},
   "outputs": [],
   "source": [
    "import torch.nn as nn\n",
    "import torch.nn.functional as F\n",
    "\n",
    "\n",
    "class Net(nn.Module): # nn.Module is a base class for all neural network modules in PyTorch\n",
    "    def __init__(self):\n",
    "        super().__init__()\n",
    "        self.conv1 = nn.Conv2d(3, 6, 5) # creates convolutional layer with 3 input, 6 output channels, and kernel size of 5\n",
    "        self.pool = nn.MaxPool2d(2, 2) # uses a 2x2 square to pool the maximum values, pooling window moves 2 pixels \n",
    "        self.conv2 = nn.Conv2d(6, 16, 5) # 16 * 5 * 5 comes from the output dimensions of the last layer\n",
    "        self.fc1 = nn.Linear(16 * 5 * 5, 120)\n",
    "        self.fc2 = nn.Linear(120, 84)\n",
    "        self.fc3 = nn.Linear(84, 10) # 10 output classes\n",
    "\n",
    "    def forward(self, x): # x is the input tensor that flows through the network\n",
    "        x = self.pool(F.relu(self.conv1(x))) # use ReLU activation function\n",
    "        x = self.pool(F.relu(self.conv2(x)))\n",
    "        x = torch.flatten(x, 1) # flatten all dimensions except batch\n",
    "        x = F.relu(self.fc1(x))\n",
    "        x = F.relu(self.fc2(x))\n",
    "        x = self.fc3(x)\n",
    "        return x\n",
    "\n",
    "\n",
    "net = Net()"
   ]
  },
  {
   "cell_type": "markdown",
   "id": "f526d993-188a-4525-96c8-02b79dafd4eb",
   "metadata": {},
   "source": [
    "Define a Loss function and optimizer:"
   ]
  },
  {
   "cell_type": "code",
   "execution_count": 7,
   "id": "475bbefe-3854-4a1d-8bc6-e54ae5d7fdf7",
   "metadata": {},
   "outputs": [],
   "source": [
    "import torch.optim as optim\n",
    "\n",
    "criterion = nn.CrossEntropyLoss() # combining nn.LogSoftmax() to count probabilities and nn.NLLLoss()\n",
    "optimizer = optim.SGD(net.parameters(), lr=0.001, momentum=0.9)"
   ]
  },
  {
   "cell_type": "markdown",
   "id": "e25d73ce-4b2f-41fd-be79-7feaea680170",
   "metadata": {},
   "source": [
    "Train the network:"
   ]
  },
  {
   "cell_type": "code",
   "execution_count": 15,
   "id": "549de1e0-6965-42c4-9364-8db168a879f9",
   "metadata": {},
   "outputs": [
    {
     "name": "stdout",
     "output_type": "stream",
     "text": [
      "[1,  2000] loss: 1.303\n",
      "[1,  4000] loss: 1.317\n",
      "[1,  6000] loss: 1.305\n",
      "[1,  8000] loss: 1.310\n",
      "[1, 10000] loss: 1.285\n",
      "[1, 12000] loss: 1.305\n",
      "[2,  2000] loss: 1.309\n",
      "[2,  4000] loss: 1.304\n",
      "[2,  6000] loss: 1.293\n",
      "[2,  8000] loss: 1.325\n",
      "[2, 10000] loss: 1.312\n",
      "[2, 12000] loss: 1.292\n",
      "[3,  2000] loss: 1.295\n",
      "[3,  4000] loss: 1.289\n",
      "[3,  6000] loss: 1.304\n",
      "[3,  8000] loss: 1.316\n",
      "[3, 10000] loss: 1.311\n",
      "[3, 12000] loss: 1.300\n",
      "[4,  2000] loss: 1.303\n",
      "[4,  4000] loss: 1.301\n",
      "[4,  6000] loss: 1.297\n",
      "[4,  8000] loss: 1.306\n",
      "[4, 10000] loss: 1.297\n",
      "[4, 12000] loss: 1.312\n",
      "[5,  2000] loss: 1.307\n",
      "[5,  4000] loss: 1.296\n",
      "[5,  6000] loss: 1.316\n",
      "[5,  8000] loss: 1.302\n",
      "[5, 10000] loss: 1.303\n",
      "[5, 12000] loss: 1.302\n",
      "Finished Training\n"
     ]
    }
   ],
   "source": [
    "for epoch in range(5):  # loop over the dataset multiple times, 2 epochs\n",
    "\n",
    "    running_loss = 0.0\n",
    "    for i, data in enumerate(trainloader, 0): # iterating over trainloader\n",
    "        # get the inputs; data is a list of [inputs, labels]\n",
    "        inputs, labels = data\n",
    "\n",
    "        # the gradients accumulated from the previous batch need to be zeroed out\n",
    "        optimizer.zero_grad()\n",
    "\n",
    "        # forward + backward + optimize\n",
    "        outputs = net(inputs)\n",
    "        loss = criterion(outputs, labels)\n",
    "        loss.backward()\n",
    "        optimizer.step()\n",
    "\n",
    "        # print statistics\n",
    "        running_loss += loss.item()\n",
    "        if i % 2000 == 1999:    # print every 2000 mini-batches\n",
    "            print(f'[{epoch + 1}, {i + 1:5d}] loss: {running_loss / 2000:.3f}')\n",
    "            running_loss = 0.0\n",
    "\n",
    "print('Finished Training')"
   ]
  },
  {
   "cell_type": "markdown",
   "id": "e86128fd-d3d0-44b9-8bd5-4fcef3a6b2d5",
   "metadata": {},
   "source": [
    "To quickly save the trained model:"
   ]
  },
  {
   "cell_type": "code",
   "execution_count": 16,
   "id": "e7c800ce-4016-4836-83e7-71019e8e79af",
   "metadata": {},
   "outputs": [],
   "source": [
    "PATH = './cifar_net.pth'\n",
    "torch.save(net.state_dict(), PATH)"
   ]
  },
  {
   "cell_type": "markdown",
   "id": "4a7471ef-884b-4ee0-a818-6e74a635646b",
   "metadata": {},
   "source": [
    "Test the network on the test data:"
   ]
  },
  {
   "cell_type": "code",
   "execution_count": 17,
   "id": "ef81c4f1-a41c-4bd4-89a0-460b2e7b1d7b",
   "metadata": {},
   "outputs": [
    {
     "data": {
      "image/png": "[encoded data removed]",
      "text/plain": [
       "<Figure size 640x480 with 1 Axes>"
      ]
     },
     "metadata": {},
     "output_type": "display_data"
    },
    {
     "name": "stdout",
     "output_type": "stream",
     "text": [
      "GroundTruth:  cat   ship  ship  plane\n"
     ]
    }
   ],
   "source": [
    "dataiter = iter(testloader)\n",
    "images, labels = next(dataiter)\n",
    "\n",
    "# print images\n",
    "imshow(torchvision.utils.make_grid(images))\n",
    "print('GroundTruth: ', ' '.join(f'{classes[labels[j]]:5s}' for j in range(4)))"
   ]
  },
  {
   "cell_type": "markdown",
   "id": "b2c1a9cf-4ed6-4320-9ba6-e503b673197e",
   "metadata": {},
   "source": [
    "To load back in saved model and predict the labels:"
   ]
  },
  {
   "cell_type": "code",
   "execution_count": 18,
   "id": "20fe4b46-2747-499b-a99e-6cadca1dd3f0",
   "metadata": {},
   "outputs": [
    {
     "data": {
      "text/plain": [
       "<All keys matched successfully>"
      ]
     },
     "execution_count": 18,
     "metadata": {},
     "output_type": "execute_result"
    }
   ],
   "source": [
    "net = Net()\n",
    "net.load_state_dict(torch.load(PATH))"
   ]
  },
  {
   "cell_type": "code",
   "execution_count": 19,
   "id": "2c58d7bf-fd8f-4e92-a397-1e1dd7e6e3b0",
   "metadata": {},
   "outputs": [],
   "source": [
    "outputs = net(images)"
   ]
  },
  {
   "cell_type": "code",
   "execution_count": 20,
   "id": "593d8d97-b46f-42c3-b0b3-e31c7803df0c",
   "metadata": {},
   "outputs": [
    {
     "name": "stdout",
     "output_type": "stream",
     "text": [
      "Predicted:  cat   ship  ship  ship \n"
     ]
    }
   ],
   "source": [
    "_, predicted = torch.max(outputs, 1)\n",
    "\n",
    "print('Predicted: ', ' '.join(f'{classes[predicted[j]]:5s}'\n",
    "                              for j in range(4)))"
   ]
  },
  {
   "cell_type": "markdown",
   "id": "1eda092d-8296-426a-8991-d66ac2855a1f",
   "metadata": {},
   "source": [
    "Test how the network performs on the whole dataset:"
   ]
  },
  {
   "cell_type": "code",
   "execution_count": 21,
   "id": "12c001b8-2cf3-4af0-a8e9-31062191585f",
   "metadata": {},
   "outputs": [
    {
     "name": "stdout",
     "output_type": "stream",
     "text": [
      "Accuracy of the network on the 10000 test images: 51 %\n"
     ]
    }
   ],
   "source": [
    "correct = 0\n",
    "total = 0\n",
    "# since we're not training, we don't need to calculate the gradients for our outputs\n",
    "with torch.no_grad():\n",
    "    for data in testloader:\n",
    "        images, labels = data\n",
    "        # calculate outputs by running images through the network\n",
    "        outputs = net(images)\n",
    "        # the class with the highest energy is what we choose as prediction\n",
    "        _, predicted = torch.max(outputs.data, 1)\n",
    "        total += labels.size(0)\n",
    "        correct += (predicted == labels).sum().item()\n",
    "\n",
    "print(f'Accuracy of the network on the 10000 test images: {100 * correct // total} %')"
   ]
  },
  {
   "cell_type": "markdown",
   "id": "ded33cbe-a6ab-462b-8b38-c7196ddfd66e",
   "metadata": {},
   "source": [
    "Establish the classes that performed well, and the classes that did not perform well:"
   ]
  },
  {
   "cell_type": "code",
   "execution_count": 22,
   "id": "59e0bf1a-0af5-4e52-bcd5-ca93a2750ab9",
   "metadata": {},
   "outputs": [
    {
     "name": "stdout",
     "output_type": "stream",
     "text": [
      "Accuracy for class: plane is 53.5 %\n",
      "Accuracy for class: car   is 51.9 %\n",
      "Accuracy for class: bird  is 33.9 %\n",
      "Accuracy for class: cat   is 29.0 %\n",
      "Accuracy for class: deer  is 56.4 %\n",
      "Accuracy for class: dog   is 37.9 %\n",
      "Accuracy for class: frog  is 79.0 %\n",
      "Accuracy for class: horse is 52.0 %\n",
      "Accuracy for class: ship  is 60.2 %\n",
      "Accuracy for class: truck is 64.9 %\n"
     ]
    }
   ],
   "source": [
    "# prepare to count predictions for each class\n",
    "correct_pred = {classname: 0 for classname in classes}\n",
    "total_pred = {classname: 0 for classname in classes}\n",
    "\n",
    "# again no gradients needed\n",
    "with torch.no_grad():\n",
    "    for data in testloader:\n",
    "        images, labels = data\n",
    "        outputs = net(images)\n",
    "        _, predictions = torch.max(outputs, 1)\n",
    "        # collect the correct predictions for each class\n",
    "        for label, prediction in zip(labels, predictions):\n",
    "            if label == prediction:\n",
    "                correct_pred[classes[label]] += 1\n",
    "            total_pred[classes[label]] += 1\n",
    "\n",
    "\n",
    "# print accuracy for each class\n",
    "for classname, correct_count in correct_pred.items():\n",
    "    accuracy = 100 * float(correct_count) / total_pred[classname]\n",
    "    print(f'Accuracy for class: {classname:5s} is {accuracy:.1f} %')"
   ]
  },
  {
   "cell_type": "markdown",
   "id": "8339f00e-394a-46a2-ba89-b65fd9ba2596",
   "metadata": {},
   "source": [
    "Training on GPU:"
   ]
  },
  {
   "cell_type": "code",
   "execution_count": 23,
   "id": "2a576c23-9ad1-482d-b030-6ecf4c7d6c94",
   "metadata": {},
   "outputs": [
    {
     "name": "stdout",
     "output_type": "stream",
     "text": [
      "cpu\n"
     ]
    }
   ],
   "source": [
    "device = torch.device('cuda:0' if torch.cuda.is_available() else 'cpu')\n",
    "\n",
    "# Assuming that we are on a CUDA machine, this should print a CUDA device:\n",
    "\n",
    "print(device)"
   ]
  },
  {
   "cell_type": "code",
   "execution_count": null,
   "id": "91157212-a3e8-49c4-a4b4-a6e91abd49b7",
   "metadata": {},
   "outputs": [],
   "source": [
    "net.to(device)"
   ]
  },
  {
   "cell_type": "markdown",
   "id": "fd087b50-c13e-45ab-bcdf-e96416281007",
   "metadata": {},
   "source": [
    "Then it is necessary to send the inputs and targets at every step to the GPU too:"
   ]
  },
  {
   "cell_type": "code",
   "execution_count": null,
   "id": "b7463a10-4d59-4add-bbd1-9b948689ea46",
   "metadata": {},
   "outputs": [],
   "source": [
    "inputs, labels = data[0].to(device), data[1].to(device)"
   ]
  }
 ],
 "metadata": {
  "kernelspec": {
   "display_name": "Python 3 (ipykernel)",
   "language": "python",
   "name": "python3"
  },
  "language_info": {
   "codemirror_mode": {
    "name": "ipython",
    "version": 3
   },
   "file_extension": ".py",
   "mimetype": "text/x-python",
   "name": "python",
   "nbconvert_exporter": "python",
   "pygments_lexer": "ipython3",
   "version": "3.11.5"
  }
 },
 "nbformat": 4,
 "nbformat_minor": 5
}
