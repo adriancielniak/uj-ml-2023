{
 "cells": [
  {
   "cell_type": "markdown",
   "id": "bf48d2a4-6e84-4586-93a6-871b10df512d",
   "metadata": {},
   "source": [
    "# Getting Started with PyTorch\n",
    "In this tutorial we will explore the fundamental capabilities of PyTorch using the MNIST dataset. We will cover key aspects of PyTorch, from loading data to building and training a simple neural network for classifying handwritten digits."
   ]
  },
  {
   "cell_type": "markdown",
   "id": "3ea462ac-b701-4073-8f30-fd78cd5dff1b",
   "metadata": {},
   "source": [
    "## What is PyTorch?\n",
    "PyTorch is a popular library for numerical computations and building deep learning models. Developed by Facebook AI Research (FAIR), it provides a flexible platform for working with tensors, constructing, and training machine learning models."
   ]
  },
  {
   "cell_type": "markdown",
   "id": "98363235-a33e-4144-bb27-bf4b2e38517f",
   "metadata": {},
   "source": [
    "## 1. Installation\n",
    "\n",
    "```bash\n",
    "pip install torch torchvision\n",
    "```"
   ]
  },
  {
   "cell_type": "markdown",
   "id": "47a686b7-6932-4c0e-9f91-9f3146ae1439",
   "metadata": {},
   "source": [
    "## 2. Download MNIST dataset in local system"
   ]
  },
  {
   "cell_type": "code",
   "execution_count": 8,
   "id": "6eb9eb34-caad-40e6-82a7-4717ad4b78f5",
   "metadata": {},
   "outputs": [],
   "source": [
    "import torch\n",
    "from torchvision import datasets\n",
    "from torchvision.transforms import ToTensor\n",
    "\n",
    "train_data = datasets.MNIST(\n",
    "    root = 'data',\n",
    "    train = True,                         \n",
    "    transform = ToTensor(), \n",
    "    download = True,            \n",
    ")\n",
    "test_data = datasets.MNIST(\n",
    "    root = 'data', \n",
    "    train = False, \n",
    "    transform = ToTensor()\n",
    ")"
   ]
  },
  {
   "cell_type": "markdown",
   "id": "1de4a2cf-2309-4036-b9d5-05c20433b93d",
   "metadata": {},
   "source": [
    "### We can print our datasets to see details"
   ]
  },
  {
   "cell_type": "code",
   "execution_count": 4,
   "id": "d9a921c4-50ea-4904-bee2-c98c8720d3c8",
   "metadata": {},
   "outputs": [
    {
     "name": "stdout",
     "output_type": "stream",
     "text": [
      "Dataset MNIST\n",
      "    Number of datapoints: 60000\n",
      "    Root location: data\n",
      "    Split: Train\n",
      "    StandardTransform\n",
      "Transform: ToTensor()\n"
     ]
    }
   ],
   "source": [
    "print(train_data)"
   ]
  },
  {
   "cell_type": "code",
   "execution_count": 5,
   "id": "0ec4cdc4-8c1a-4147-8982-de4b5b48b056",
   "metadata": {},
   "outputs": [
    {
     "name": "stdout",
     "output_type": "stream",
     "text": [
      "Dataset MNIST\n",
      "    Number of datapoints: 10000\n",
      "    Root location: data\n",
      "    Split: Test\n",
      "    StandardTransform\n",
      "Transform: ToTensor()\n"
     ]
    }
   ],
   "source": [
    "print(test_data)"
   ]
  },
  {
   "cell_type": "markdown",
   "id": "c4cd7e38-f7a4-47e9-99ad-68fadb7a338d",
   "metadata": {},
   "source": [
    "### Visualization of MNIST dataset\n",
    "Lets print 5 random digits from the dataset!"
   ]
  },
  {
   "cell_type": "code",
   "execution_count": 9,
   "id": "0808b6b5-3c16-406e-be3f-f76fd507c326",
   "metadata": {},
   "outputs": [
    {
     "data": {
      "image/png": "[encoded data removed]",
      "text/plain": [
       "<Figure size 1500x300 with 5 Axes>"
      ]
     },
     "metadata": {},
     "output_type": "display_data"
    }
   ],
   "source": [
    "import matplotlib.pyplot as plt\n",
    "import random\n",
    "\n",
    "random_indices = random.sample(range(len(train_data)), 5)\n",
    "fig, axes = plt.subplots(1, 5, figsize=(15, 3))\n",
    "\n",
    "for i, idx in enumerate(random_indices):\n",
    "    image, label = train_data[idx][0], train_data[idx][1]\n",
    "    axes[i].imshow(image.squeeze(), cmap='gray')\n",
    "    axes[i].set_title('Label: %i' % label)\n",
    "\n",
    "plt.show()"
   ]
  },
  {
   "cell_type": "markdown",
   "id": "9e963b03-c5d0-4b6a-b575-cff1a37bbaa3",
   "metadata": {},
   "source": [
    "## 3. Preparing data with DataLoaders\n",
    "In PyTorch, a Dataset is responsible for fetching features and labels from our dataset one sample at a time. However, during the training of a model, it's common practice to process samples in \"minibatches,\" shuffle the data at every epoch to mitigate model overfitting, and use multiprocessing to expedite data retrieval."
   ]
  },
  {
   "cell_type": "code",
   "execution_count": 10,
   "id": "800a6c0e-6403-4a64-b3f6-2d6b6f5bb095",
   "metadata": {},
   "outputs": [],
   "source": [
    "from torch.utils.data import DataLoader\n",
    "\n",
    "loaders = {\n",
    "    'train' : torch.utils.data.DataLoader(train_data, \n",
    "                                          batch_size=100, \n",
    "                                          shuffle=True, \n",
    "                                          num_workers=1),\n",
    "    \n",
    "    'test'  : torch.utils.data.DataLoader(test_data, \n",
    "                                          batch_size=100, \n",
    "                                          shuffle=True, \n",
    "                                          num_workers=1),\n",
    "}"
   ]
  },
  {
   "cell_type": "markdown",
   "id": "fad438db-dd06-40c5-8a37-bf028b4c1c25",
   "metadata": {},
   "source": [
    "## 4. Define the Convolutional Neural Network model\n",
    "This type of neural network is usded mainly in image procesing applications\n",
    "\n",
    "### Parameters\n",
    "\n",
    "- in_channels (int) — Number of channels in the input image\n",
    "- out_channels (int) — Number of channels produced by the convolution\n",
    "- kernel_size (int or tuple) — Size of the convolving kernel\n",
    "- stride (int or tuple, optional) — Stride of the convolution. Default: 1\n",
    "- padding (int or tuple, optional) — Zero-padding added to both sides of the input. Default: 0\n",
    "- padding_mode (string, optional) — ‘zeros’, ‘reflect’, ‘replicate’ or ‘circular’. Default: ‘zeros’\n",
    "- dilation (int or tuple, optional) — Spacing between kernel elements. Default: 1\n",
    "- bias (bool, optional) — If True, adds a learnable bias to the output. Default: True\n",
    "- groups (int, optional) — Number of blocked connections from input channels to output channels. Default: 1"
   ]
  },
  {
   "cell_type": "code",
   "execution_count": 11,
   "id": "29fdac48-d9a0-47cb-bf5b-c07aecfa9a01",
   "metadata": {},
   "outputs": [],
   "source": [
    "import torch.nn as nn\n",
    "\n",
    "class CNN(nn.Module):\n",
    "    def __init__(self):\n",
    "        super(CNN, self).__init__()\n",
    "        self.conv1 = nn.Sequential(         \n",
    "            nn.Conv2d(\n",
    "                in_channels=1,              \n",
    "                out_channels=16,            \n",
    "                kernel_size=5,              \n",
    "                stride=1,                   \n",
    "                padding=2,                  \n",
    "            ),                              \n",
    "            nn.ReLU(),                      \n",
    "            nn.MaxPool2d(kernel_size=2),    \n",
    "        )\n",
    "        self.conv2 = nn.Sequential(         \n",
    "            nn.Conv2d(16, 32, 5, 1, 2),     \n",
    "            nn.ReLU(),                      \n",
    "            nn.MaxPool2d(2),                \n",
    "        )\n",
    "        self.out = nn.Linear(32 * 7 * 7, 10)\n",
    "        \n",
    "    def forward(self, x):\n",
    "        x = self.conv1(x)\n",
    "        x = self.conv2(x)\n",
    "        x = x.view(x.size(0), -1)       \n",
    "        output = self.out(x)\n",
    "        return output, x  \n",
    "\n",
    "cnn = CNN()"
   ]
  },
  {
   "cell_type": "markdown",
   "id": "84e8709c-7ca9-46e6-9688-e63582a1001c",
   "metadata": {},
   "source": [
    "## 5. Define loss function"
   ]
  },
  {
   "cell_type": "code",
   "execution_count": 12,
   "id": "d2684c23-3a40-403e-845a-bdccf4abf863",
   "metadata": {},
   "outputs": [
    {
     "data": {
      "text/plain": [
       "CrossEntropyLoss()"
      ]
     },
     "execution_count": 12,
     "metadata": {},
     "output_type": "execute_result"
    }
   ],
   "source": [
    "loss_func = nn.CrossEntropyLoss()   \n",
    "loss_func"
   ]
  },
  {
   "cell_type": "markdown",
   "id": "f7e0a75f-794b-42cf-929d-90f25dd47c85",
   "metadata": {},
   "source": [
    "## 6. Define a Optimization Function"
   ]
  },
  {
   "cell_type": "code",
   "execution_count": 13,
   "id": "d29ebd5b-4f09-44a5-8365-87894e12116a",
   "metadata": {},
   "outputs": [
    {
     "data": {
      "text/plain": [
       "Adam (\n",
       "Parameter Group 0\n",
       "    amsgrad: False\n",
       "    betas: (0.9, 0.999)\n",
       "    capturable: False\n",
       "    differentiable: False\n",
       "    eps: 1e-08\n",
       "    foreach: None\n",
       "    fused: None\n",
       "    lr: 0.01\n",
       "    maximize: False\n",
       "    weight_decay: 0\n",
       ")"
      ]
     },
     "execution_count": 13,
     "metadata": {},
     "output_type": "execute_result"
    }
   ],
   "source": [
    "from torch import optim\n",
    "optimizer = optim.Adam(cnn.parameters(), lr = 0.01)   \n",
    "optimizer"
   ]
  },
  {
   "cell_type": "markdown",
   "id": "0383fa59-92af-4a8d-badb-3ec44da1aaa2",
   "metadata": {},
   "source": [
    "## 7. Training the model \n",
    "Create a function called train() and pass num of epochs, model and data loaders as input parameters."
   ]
  },
  {
   "cell_type": "code",
   "execution_count": 14,
   "id": "e50f737a-f021-44ac-914a-549289eb78cf",
   "metadata": {},
   "outputs": [
    {
     "name": "stdout",
     "output_type": "stream",
     "text": [
      "Epoch [1/1], Step [100/600], Loss: 0.1007\n",
      "Epoch [1/1], Step [200/600], Loss: 0.0753\n",
      "Epoch [1/1], Step [300/600], Loss: 0.0825\n",
      "Epoch [1/1], Step [400/600], Loss: 0.1106\n",
      "Epoch [1/1], Step [500/600], Loss: 0.0485\n",
      "Epoch [1/1], Step [600/600], Loss: 0.0488\n"
     ]
    }
   ],
   "source": [
    "from torch.autograd import Variable\n",
    "\n",
    "num_epochs = 1\n",
    "\n",
    "def train(num_epochs, cnn, loaders):\n",
    "    cnn.train()\n",
    "    \n",
    "    # Train the model\n",
    "    total_step = len(loaders['train'])\n",
    "    \n",
    "    for epoch in range(num_epochs):\n",
    "        for i, (images, labels) in enumerate(loaders['train']):\n",
    "            \n",
    "            # gives batch data, normalize x when iterate train_loader\n",
    "            b_x = Variable(images)   # batch x\n",
    "            b_y = Variable(labels)   # batch y\n",
    "            output = cnn(b_x)[0]               \n",
    "            loss = loss_func(output, b_y)\n",
    "            \n",
    "            # clear gradients for this training step   \n",
    "            optimizer.zero_grad()           \n",
    "            \n",
    "            # backpropagation, compute gradients \n",
    "            loss.backward()    \n",
    "            # apply gradients             \n",
    "            optimizer.step()                \n",
    "            \n",
    "            if (i+1) % 100 == 0:\n",
    "                print('Epoch [{}/{}], Step [{}/{}], Loss: {:.4f}' \n",
    "                      .format(epoch + 1, num_epochs, i + 1, total_step, loss.item()))\n",
    "    \n",
    "train(num_epochs, cnn, loaders)"
   ]
  },
  {
   "cell_type": "markdown",
   "id": "72fdbab8-6fbe-4dba-9395-18f7bab4efec",
   "metadata": {},
   "source": [
    "## 8. Evaluate the model on test data"
   ]
  },
  {
   "cell_type": "code",
   "execution_count": 17,
   "id": "d6d5413b-f4c0-4cf3-8501-f7f31b6cc233",
   "metadata": {},
   "outputs": [
    {
     "name": "stdout",
     "output_type": "stream",
     "text": [
      "Test Accuracy of the model on the 10000 test images: 0.98\n"
     ]
    }
   ],
   "source": [
    "def test():\n",
    "    # Test the model\n",
    "    cnn.eval()\n",
    "    with torch.no_grad():\n",
    "        correct = 0\n",
    "        total = 0\n",
    "        for images, labels in loaders['test']:\n",
    "            test_output, last_layer = cnn(images)\n",
    "            pred_y = torch.max(test_output, 1)[1].data.squeeze()\n",
    "            accuracy = (pred_y == labels).sum().item() / float(labels.size(0))\n",
    "        print('Test Accuracy of the model on the 10000 test images: %.2f' % accuracy)\n",
    "test()"
   ]
  },
  {
   "cell_type": "markdown",
   "id": "0c438df7-a423-4c4a-b92a-6ea06b130eba",
   "metadata": {},
   "source": [
    "## 9. Print 10 predictions from test data"
   ]
  },
  {
   "cell_type": "code",
   "execution_count": 18,
   "id": "c55ceec3-49f7-43ad-92f7-8881a87f22a8",
   "metadata": {},
   "outputs": [],
   "source": [
    "sample = next(iter(loaders['test']))\n",
    "imgs, lbls = sample"
   ]
  },
  {
   "cell_type": "code",
   "execution_count": 19,
   "id": "0d8ddc4a-a1e8-4857-b0a4-9fcb5e2a11d5",
   "metadata": {},
   "outputs": [
    {
     "data": {
      "text/plain": [
       "array([1, 5, 4, 4, 1, 2, 9, 6, 8, 4])"
      ]
     },
     "execution_count": 19,
     "metadata": {},
     "output_type": "execute_result"
    }
   ],
   "source": [
    "actual_number = lbls[:10].numpy()\n",
    "actual_number"
   ]
  },
  {
   "cell_type": "code",
   "execution_count": 20,
   "id": "53be8037-e544-46fe-b9e3-0efba9fbd1d5",
   "metadata": {},
   "outputs": [
    {
     "name": "stdout",
     "output_type": "stream",
     "text": [
      "Prediction number: [1 5 4 4 2 2 9 6 8 4]\n",
      "Actual number: [1 5 4 4 1 2 9 6 8 4]\n"
     ]
    }
   ],
   "source": [
    "test_output, last_layer = cnn(imgs[:10])\n",
    "pred_y = torch.max(test_output, 1)[1].data.numpy().squeeze()\n",
    "print(f'Prediction number: {pred_y}')\n",
    "print(f'Actual number: {actual_number}')"
   ]
  },
  {
   "cell_type": "code",
   "execution_count": null,
   "id": "93eab491-b38c-4c50-9532-bbf7fb8191c9",
   "metadata": {},
   "outputs": [],
   "source": []
  }
 ],
 "metadata": {
  "kernelspec": {
   "display_name": "Python 3 (ipykernel)",
   "language": "python",
   "name": "python3"
  },
  "language_info": {
   "codemirror_mode": {
    "name": "ipython",
    "version": 3
   },
   "file_extension": ".py",
   "mimetype": "text/x-python",
   "name": "python",
   "nbconvert_exporter": "python",
   "pygments_lexer": "ipython3",
   "version": "3.10.1"
  }
 },
 "nbformat": 4,
 "nbformat_minor": 5
}
